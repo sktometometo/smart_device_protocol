{
 "cells": [
  {
   "cell_type": "markdown",
   "id": "attractive-nebraska",
   "metadata": {},
   "source": [
    "# Hi, Welcome to M5Stack UnitV2!\n",
    "\n",
    "## This introduction will help you go through all the basic function of the M5 UnitV2.\n",
    "### We will have more documents and examples in this notebooks in the following software updates!"
   ]
  },
  {
   "cell_type": "markdown",
   "id": "placed-estimate",
   "metadata": {},
   "source": [
    "------\n",
    "### Section 1: Introduction to python\n",
    "\n",
    "UnitV2 along with this Jupyter Notebook is running the Python 3.8 which supports all cool features of the python!"
   ]
  },
  {
   "cell_type": "code",
   "execution_count": null,
   "id": "mathematical-reform",
   "metadata": {},
   "outputs": [],
   "source": [
    "import sys\n",
    "print(\"This is Python {}.{}.\".format(sys.version_info.major, sys.version_info.minor))"
   ]
  },
  {
   "cell_type": "markdown",
   "id": "structured-command",
   "metadata": {},
   "source": [
    "You can try the fancy prints like this:"
   ]
  },
  {
   "cell_type": "code",
   "execution_count": null,
   "id": "protective-statistics",
   "metadata": {},
   "outputs": [],
   "source": [
    "hello = 'hello'\n",
    "print(f'{hello} %s' % 'world')"
   ]
  },
  {
   "cell_type": "markdown",
   "id": "soviet-object",
   "metadata": {},
   "source": [
    "or some new gramma candy like this:"
   ]
  },
  {
   "cell_type": "code",
   "execution_count": null,
   "id": "patient-benefit",
   "metadata": {},
   "outputs": [],
   "source": [
    "a = [1, 2, 3, 4, 5, 6, 7, 8, 9, 10, 11]\n",
    "if (n := len(a)) > 10:\n",
    "    print(f\"List is too long ({n} elements, expected <= 10)\")"
   ]
  },
  {
   "cell_type": "markdown",
   "id": "major-pickup",
   "metadata": {},
   "source": [
    "For all the new features, please refer to https://docs.python.org/3/whatsnew/3.8.html and check out the python tutorial https://docs.python.org/3.8/tutorial/index.html !"
   ]
  },
  {
   "cell_type": "markdown",
   "id": "comic-pennsylvania",
   "metadata": {},
   "source": [
    "--------\n",
    "### Section 2: Control LED\n",
    "Inside the M5Stack UnitV2 there is two LED.\n",
    "\n",
    "A white led on the GPIO0 and a red led on the GPIO1. You can control them by export the GPIO and set the value."
   ]
  },
  {
   "cell_type": "code",
   "execution_count": null,
   "id": "signal-horizon",
   "metadata": {},
   "outputs": [],
   "source": [
    "def control_white_led(value):\n",
    "    open('/sys/class/gpio/export', 'w').write('0') # Export the GPIO0\n",
    "    open('/sys/class/gpio/gpio0/direction', 'w').write('out') # Set the direction of the GPIO\n",
    "    open('/sys/class/gpio/gpio0/value', 'w').write(str(value)) # Set the calute, '1' or '0'\n",
    "    \n",
    "def control_red_led(value):\n",
    "    open('/sys/class/gpio/export', 'w').write('1') # Export the GPIO0\n",
    "    open('/sys/class/gpio/gpio1/direction', 'w').write('out') # Set the direction of the GPIO\n",
    "    open('/sys/class/gpio/gpio1/value', 'w').write(str(value)) # Set the calute, '1' or '0'"
   ]
  },
  {
   "cell_type": "markdown",
   "id": "funded-suite",
   "metadata": {},
   "source": [
    "The LED are connected between the VCC and the GPIO,so we need to set it to zero to let it shine!"
   ]
  },
  {
   "cell_type": "code",
   "execution_count": null,
   "id": "silver-tower",
   "metadata": {},
   "outputs": [],
   "source": [
    "control_white_led(0)"
   ]
  },
  {
   "cell_type": "markdown",
   "id": "advised-october",
   "metadata": {},
   "source": [
    "We can also let blink the led!"
   ]
  },
  {
   "cell_type": "code",
   "execution_count": null,
   "id": "satellite-swiss",
   "metadata": {},
   "outputs": [],
   "source": [
    "import time\n",
    "\n",
    "for i in range(10):\n",
    "    control_white_led(0)\n",
    "    time.sleep(0.5)\n",
    "    control_white_led(1)\n",
    "    time.sleep(0.5)"
   ]
  },
  {
   "cell_type": "markdown",
   "id": "assured-effectiveness",
   "metadata": {},
   "source": [
    "-------------------------\n",
    "### Section 3: UART Communication on Grove"
   ]
  },
  {
   "cell_type": "markdown",
   "id": "amended-behavior",
   "metadata": {},
   "source": [
    "The grove port is connect to the device only through the on-board UART.\n",
    "The UART device is located at /dev/ttyS1.\n",
    "\n",
    "You can operate the port like this:"
   ]
  },
  {
   "cell_type": "code",
   "execution_count": null,
   "id": "incident-immunology",
   "metadata": {},
   "outputs": [],
   "source": [
    "import serial\n",
    "\n",
    "\n",
    "# Open the serial port, and set the baudrate to 115200\n",
    "uart_grove = serial.Serial('/dev/ttyS1', 115200, timeout=0.5)\n",
    "\n",
    "# Send Something\n",
    "uart_grove.write('hello'.encode('utf-8')) \n",
    "# encode is for converting the string to bytes, or you can directly send bytes\n",
    "uart_grove.write(b'hello') "
   ]
  },
  {
   "cell_type": "code",
   "execution_count": null,
   "id": "assigned-architect",
   "metadata": {},
   "outputs": [],
   "source": [
    "# Receive soemthing\n",
    "x = uart_grove.read()          # read one byte\n",
    "s = uart_grove.read(10)        # read up to ten bytes (timeout)\n",
    "line = uart_grove.readline()   # read a '\\n' terminated line"
   ]
  },
  {
   "cell_type": "markdown",
   "id": "contrary-oklahoma",
   "metadata": {},
   "source": [
    "You can read more on the serial package at here: https://pyserial.readthedocs.io/en/latest/index.html"
   ]
  },
  {
   "cell_type": "markdown",
   "id": "enabling-alarm",
   "metadata": {},
   "source": [
    "-----------------------------\n",
    "### Section 4: Camera and Image Processing"
   ]
  },
  {
   "cell_type": "markdown",
   "id": "quick-declaration",
   "metadata": {},
   "source": [
    "M5Stack UnitV2 has a built-in camera located at /dev/video0.\n",
    "\n",
    "You can try to capture a still image like this:"
   ]
  },
  {
   "cell_type": "code",
   "execution_count": null,
   "id": "specific-scanning",
   "metadata": {},
   "outputs": [],
   "source": [
    "import cv2\n",
    "\n",
    "\n",
    "camera = cv2.VideoCapture(0)\n",
    "ret, frame = camera.read()\n",
    "\n",
    "if ret:\n",
    "    print('Capture Successful!')\n",
    "else:\n",
    "    print('OOps, we get some trouble!')"
   ]
  },
  {
   "cell_type": "markdown",
   "id": "developmental-intelligence",
   "metadata": {},
   "source": [
    "If you see 'Capture Successful', that means we captured a frame, congratulations!\n",
    "Let try to show it here!\n",
    "\n",
    "The first thing to do is import a libiary called matplotlib. this can help us show image and plots!"
   ]
  },
  {
   "cell_type": "code",
   "execution_count": null,
   "id": "bulgarian-sample",
   "metadata": {},
   "outputs": [],
   "source": [
    "from matplotlib import pyplot as plt\n",
    "\n",
    "# Magic to tell matplotlib display the image in jupyter notebook\n",
    "%matplotlib inline "
   ]
  },
  {
   "cell_type": "code",
   "execution_count": null,
   "id": "presidential-partnership",
   "metadata": {},
   "outputs": [],
   "source": [
    "# Let show the image! \n",
    "plt.imshow(frame)"
   ]
  },
  {
   "cell_type": "markdown",
   "id": "enclosed-attribute",
   "metadata": {},
   "source": [
    "Hmmmm, the color looks weired, doesn't it? What is going wrong?\n",
    "\n",
    "OpenCV , for historical reason,is using BGR instead of RGB, but matplotlib do not know it. We need to help matplotlib show the correct image!"
   ]
  },
  {
   "cell_type": "code",
   "execution_count": null,
   "id": "domestic-decimal",
   "metadata": {},
   "outputs": [],
   "source": [
    "# Convert from BGR to RGB\n",
    "frame_rgb = cv2.cvtColor(frame, cv2.COLOR_BGR2RGB)"
   ]
  },
  {
   "cell_type": "code",
   "execution_count": null,
   "id": "polish-closure",
   "metadata": {},
   "outputs": [],
   "source": [
    "plt.imshow(frame_rgb)"
   ]
  },
  {
   "cell_type": "markdown",
   "id": "tough-saturn",
   "metadata": {},
   "source": [
    "Wow, it looks cool! We can also convert it to grey."
   ]
  },
  {
   "cell_type": "code",
   "execution_count": null,
   "id": "conscious-music",
   "metadata": {},
   "outputs": [],
   "source": [
    "# Convert from BGR to RGB\n",
    "frame_gray = cv2.cvtColor(frame, cv2.COLOR_BGR2GRAY)\n",
    "\n",
    "# We need to tell matplotlib it is a grey image. You can try to change to other cmap, refer here: https://matplotlib.org/stable/tutorials/colors/colormaps.html\n",
    "plt.imshow(frame_gray, cmap='gray') "
   ]
  }
 ],
 "metadata": {
  "kernelspec": {
   "display_name": "Python 3",
   "language": "python",
   "name": "python3"
  },
  "language_info": {
   "codemirror_mode": {
    "name": "ipython",
    "version": 3
   },
   "file_extension": ".py",
   "mimetype": "text/x-python",
   "name": "python",
   "nbconvert_exporter": "python",
   "pygments_lexer": "ipython3",
   "version": "3.8.6"
  }
 },
 "nbformat": 4,
 "nbformat_minor": 5
}
